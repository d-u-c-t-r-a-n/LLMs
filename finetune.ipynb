{
  "cells": [
    {
      "cell_type": "code",
      "execution_count": null,
      "metadata": {
        "gather": {
          "logged": 1738597048551
        },
        "jupyter": {
          "outputs_hidden": false,
          "source_hidden": false
        },
        "nteract": {
          "transient": {
            "deleting": false
          }
        }
      },
      "outputs": [],
      "source": [
        "from azure.ai.ml import MLClient\n",
        "from azure.identity import (\n",
        "    DefaultAzureCredential,\n",
        "    InteractiveBrowserCredential,\n",
        ")\n",
        "import time\n",
        "\n",
        "from azure.ai.ml.dsl import pipeline\n",
        "from azure.ai.ml import Input\n",
        "\n",
        "import ast"
      ]
    },
    {
      "cell_type": "code",
      "execution_count": null,
      "metadata": {},
      "outputs": [],
      "source": [
        "def fetch_data(model_name):\n",
        "       import requests\n",
        "       import pandas as pd\n",
        "       from io import StringIO\n",
        "       from sklearn.model_selection import train_test_split\n",
        "       from sklearn.preprocessing import LabelEncoder\n",
        "\n",
        "       seed = 2020\n",
        "\n",
        "       url = f\"\"\n",
        "       response = requests.get(url)\n",
        "\n",
        "       response.raise_for_status()\n",
        "\n",
        "       csv_data = StringIO(response.text)\n",
        "\n",
        "       df = pd.read_csv(csv_data)\n",
        "\n",
        "       test_size, val_size = .2, .2\n",
        "\n",
        "       train_df, temp_df = train_test_split(df, test_size=test_size + val_size, random_state=seed, stratify=df['label_string'])\n",
        "\n",
        "       val_size_adj = val_size / (val_size + test_size)\n",
        "       val_df, test_df = train_test_split(temp_df, test_size=1 - val_size_adj, random_state=seed, stratify=temp_df['label_string'])\n",
        "\n",
        "       train_df.to_json(\"train.jsonl\", orient='records', lines=True)\n",
        "       val_df.to_json(\"val.jsonl\", orient='records', lines=True)\n",
        "       test_df.to_json(\"test.jsonl\", orient='records', lines=True)\n"
      ]
    }
  ],
  "metadata": {
    "kernel_info": {
      "name": "python310-sdkv2"
    },
    "kernelspec": {
      "display_name": "Python 3.10 - SDK v2",
      "language": "python",
      "name": "python310-sdkv2"
    },
    "language_info": {
      "codemirror_mode": {
        "name": "ipython",
        "version": 3
      },
      "file_extension": ".py",
      "mimetype": "text/x-python",
      "name": "python",
      "nbconvert_exporter": "python",
      "pygments_lexer": "ipython3",
      "version": "3.10.11"
    },
    "microsoft": {
      "host": {
        "AzureML": {
          "notebookHasBeenCompleted": true
        }
      },
      "ms_spell_check": {
        "ms_spell_check_language": "en"
      }
    },
    "nteract": {
      "version": "nteract-front-end@1.0.0"
    }
  },
  "nbformat": 4,
  "nbformat_minor": 2
}
